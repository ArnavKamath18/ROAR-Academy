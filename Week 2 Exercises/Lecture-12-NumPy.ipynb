{
 "cells": [
  {
   "cell_type": "code",
   "execution_count": null,
   "metadata": {},
   "outputs": [],
   "source": [
    "# Answer for Exercise 1\n",
    "\n"
   ]
  },
  {
   "cell_type": "code",
   "execution_count": 15,
   "metadata": {},
   "outputs": [
    {
     "name": "stdout",
     "output_type": "stream",
     "text": [
      "[[ 12 -18   2]\n",
      " [  8  48  16]]\n",
      "[[ 6. -9.  1.]\n",
      " [ 4. 24.  8.]]\n",
      "[[-8  9]\n",
      " [ 9 -8]]\n"
     ]
    }
   ],
   "source": [
    "# Answer for Exercise 2\n",
    "\n",
    "import numpy as np\n",
    "\n",
    "arr1 = np.array([[6,-9,1], [4,24,8]])\n",
    "print(2*arr1)\n",
    "\n",
    "arr2 = np.eye(2)\n",
    "print(arr2.dot(arr1))\n",
    "\n",
    "arr3 = np.array([[4,3],[3,2]])\n",
    "arr4 = np.array([[-2,3],[3,-4]])\n",
    "print(arr3*arr4)"
   ]
  },
  {
   "cell_type": "code",
   "execution_count": 28,
   "metadata": {},
   "outputs": [
    {
     "name": "stdout",
     "output_type": "stream",
     "text": [
      "[ 1 11 21 31 41 51]\n",
      "[12 13]\n",
      "[[24 25]\n",
      " [34 35]]\n"
     ]
    }
   ],
   "source": [
    "# Answer for Exerise 3\n",
    "\n",
    "arr = np.array([[0, 1, 2, 3, 4, 5],[10, 11, 12, 13, 14, 15],[20, 21, 22, 23, 24, 25],[30, 31, 32, 33, 34, 35],[40, 41, 42, 43, 44, 45],[50, 51, 52, 53, 54, 55]])\n",
    "\n",
    "print(arr[:,1])\n",
    "\n",
    "print(arr[1,2:4])\n",
    "\n",
    "print(arr[2:4,4:])"
   ]
  },
  {
   "cell_type": "code",
   "execution_count": null,
   "metadata": {},
   "outputs": [],
   "source": [
    "# Answer for Exercise 4\n",
    "\n"
   ]
  }
 ],
 "metadata": {
  "kernelspec": {
   "display_name": "Python 3",
   "language": "python",
   "name": "python3"
  },
  "language_info": {
   "codemirror_mode": {
    "name": "ipython",
    "version": 3
   },
   "file_extension": ".py",
   "mimetype": "text/x-python",
   "name": "python",
   "nbconvert_exporter": "python",
   "pygments_lexer": "ipython3",
   "version": "3.9.13"
  }
 },
 "nbformat": 4,
 "nbformat_minor": 2
}
